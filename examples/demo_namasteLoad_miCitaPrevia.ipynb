{
 "cells": [
  {
   "attachments": {},
   "cell_type": "markdown",
   "id": "da16c7b7-0130-416e-b548-2cf7b2e43f93",
   "metadata": {},
   "source": [
    "# namasteLoad - NAMASTE\n",
    "This is demostration example using *namasteLoad* to  **collection and storage data** related to *next available\n",
    "medical appointments* in primary healthcare across the Canary Islands. The main source data are gathered through\n",
    "the Canary Islands Health Service (SCS) application **_miCita Previa_**, which must the following issues:\n",
    "\n",
    "* Format of appointment screenshot images from **_miCita Previa_**:\n",
    "  <p align=\"center\">\n",
    "  <img src=\"repo_screenshot_miCitaPrevia/Screenshot_20250425_004139_org.gobiernodecanarias.sanidad.scs.citapreviasmart.jpg\" width=\"40%\">\n",
    "  <br>\n",
    "  <em>Example in Spanish. English and spanish lenguague are allowed.</em>\n",
    "  </p>\n",
    "* File name must contain the date, for example:\n",
    "  * \"IMG-20250426-WA0051.PNG\", or\n",
    "  * \"Screenshot_20250501_182444_org.gobiernodecanarias.sanidad.scs.citapreviasmart.jpg\"."
   ]
  },
  {
   "cell_type": "markdown",
   "id": "11e5ccbc-c52d-49df-ac28-7005fabcb5fd",
   "metadata": {},
   "source": [
    "## Implementation"
   ]
  },
  {
   "cell_type": "code",
   "execution_count": 1,
   "id": "a20fbf86-5815-4926-a9c3-891f78dffb79",
   "metadata": {},
   "outputs": [
    {
     "name": "stdout",
     "output_type": "stream",
     "text": [
      "Version: 0.1.0\n"
     ]
    }
   ],
   "source": [
    "import pandas as pd\n",
    "from namasteLoad import main\n",
    "\n",
    "# Check version\n",
    "print(\"Version:\", getattr(__import__(\"namasteLoad\"), \"__version__\", \"unknow\"))"
   ]
  },
  {
   "cell_type": "code",
   "execution_count": 2,
   "id": "a7667bfa-174b-44bd-b863-35db4c2a9b77",
   "metadata": {},
   "outputs": [
    {
     "name": "stdout",
     "output_type": "stream",
     "text": [
      "\n",
      "Processing image: './repo_screenshot_miCitaPrevia\\Screenshot_20250425_004139_org.gobiernodecanarias.sanidad.scs.citapreviasmart.jpg'\n",
      "\tAppoimntment type: cita medicina #\n",
      "\n",
      "Processing image: './repo_screenshot_miCitaPrevia\\Screenshot_20250425_080452_org.gobiernodecanarias.sanidad.scs.citapreviasmart.jpg'\n",
      "\tAppoimntment type: cita medicina telefonica #\n",
      "\n",
      "Processing image: './repo_screenshot_miCitaPrevia\\Screenshot_20250425_080511_org.gobiernodecanarias.sanidad.scs.citapreviasmart.jpg'\n",
      "\tAppoimntment type: cita medicina #\n",
      "\n",
      "Processing image: './repo_screenshot_miCitaPrevia\\Screenshot_20250425_183239_org.gobiernodecanarias.sanidad.scs.citapreviasmart.jpg'\n",
      "\tAppoimntment type: cita medicina #\n"
     ]
    }
   ],
   "source": [
    "path_repo = \"./repo_screenshot_miCitaPrevia\"\n",
    "main.load_appointments(path_repo)"
   ]
  },
  {
   "cell_type": "code",
   "execution_count": 3,
   "id": "f59dfc2f-5497-4070-b028-7f0e31e4ec0c",
   "metadata": {},
   "outputs": [
    {
     "name": "stdout",
     "output_type": "stream",
     "text": [
      "<class 'pandas.core.frame.DataFrame'>\n",
      "RangeIndex: 4 entries, 0 to 3\n",
      "Data columns (total 9 columns):\n",
      " #   Column        Non-Null Count  Dtype \n",
      "---  ------        --------------  ----- \n",
      " 0   id_reg        4 non-null      int64 \n",
      " 1   id_cm         4 non-null      int64 \n",
      " 2   fecha         4 non-null      object\n",
      " 3   tipo_cita     4 non-null      object\n",
      " 4   cita_cercana  4 non-null      int64 \n",
      " 5   cita_normal   4 non-null      int64 \n",
      " 6   archivo       4 non-null      object\n",
      " 7   medio         4 non-null      object\n",
      " 8   hora          4 non-null      object\n",
      "dtypes: int64(4), object(5)\n",
      "memory usage: 416.0+ bytes\n"
     ]
    }
   ],
   "source": [
    "Appt_df = pd.read_csv(\"REGISTRO.csv\")\n",
    "Appt_df.info()"
   ]
  },
  {
   "cell_type": "code",
   "execution_count": 4,
   "id": "349f3614-bccc-4fdd-8b8c-ea335ca7003d",
   "metadata": {},
   "outputs": [
    {
     "data": {
      "text/html": [
       "<div>\n",
       "<style scoped>\n",
       "    .dataframe tbody tr th:only-of-type {\n",
       "        vertical-align: middle;\n",
       "    }\n",
       "\n",
       "    .dataframe tbody tr th {\n",
       "        vertical-align: top;\n",
       "    }\n",
       "\n",
       "    .dataframe thead th {\n",
       "        text-align: right;\n",
       "    }\n",
       "</style>\n",
       "<table border=\"1\" class=\"dataframe\">\n",
       "  <thead>\n",
       "    <tr style=\"text-align: right;\">\n",
       "      <th></th>\n",
       "      <th>id_reg</th>\n",
       "      <th>id_cm</th>\n",
       "      <th>fecha</th>\n",
       "      <th>tipo_cita</th>\n",
       "      <th>cita_cercana</th>\n",
       "      <th>cita_normal</th>\n",
       "      <th>archivo</th>\n",
       "      <th>medio</th>\n",
       "      <th>hora</th>\n",
       "    </tr>\n",
       "  </thead>\n",
       "  <tbody>\n",
       "    <tr>\n",
       "      <th>0</th>\n",
       "      <td>1</td>\n",
       "      <td>101</td>\n",
       "      <td>2025-04-25</td>\n",
       "      <td>P</td>\n",
       "      <td>0</td>\n",
       "      <td>7</td>\n",
       "      <td>repo_screenshot_miCitaPrevia\\Screenshot_202504...</td>\n",
       "      <td>App</td>\n",
       "      <td>0:41</td>\n",
       "    </tr>\n",
       "    <tr>\n",
       "      <th>1</th>\n",
       "      <td>2</td>\n",
       "      <td>101</td>\n",
       "      <td>2025-04-25</td>\n",
       "      <td>T</td>\n",
       "      <td>13</td>\n",
       "      <td>13</td>\n",
       "      <td>repo_screenshot_miCitaPrevia\\Screenshot_202504...</td>\n",
       "      <td>App</td>\n",
       "      <td>8:04</td>\n",
       "    </tr>\n",
       "    <tr>\n",
       "      <th>2</th>\n",
       "      <td>3</td>\n",
       "      <td>101</td>\n",
       "      <td>2025-04-25</td>\n",
       "      <td>P</td>\n",
       "      <td>0</td>\n",
       "      <td>7</td>\n",
       "      <td>repo_screenshot_miCitaPrevia\\Screenshot_202504...</td>\n",
       "      <td>App</td>\n",
       "      <td>8:05</td>\n",
       "    </tr>\n",
       "    <tr>\n",
       "      <th>3</th>\n",
       "      <td>4</td>\n",
       "      <td>101</td>\n",
       "      <td>2025-04-25</td>\n",
       "      <td>P</td>\n",
       "      <td>7</td>\n",
       "      <td>7</td>\n",
       "      <td>repo_screenshot_miCitaPrevia\\Screenshot_202504...</td>\n",
       "      <td>App</td>\n",
       "      <td>18:32</td>\n",
       "    </tr>\n",
       "  </tbody>\n",
       "</table>\n",
       "</div>"
      ],
      "text/plain": [
       "   id_reg  id_cm       fecha tipo_cita  cita_cercana  cita_normal  \\\n",
       "0       1    101  2025-04-25         P             0            7   \n",
       "1       2    101  2025-04-25         T            13           13   \n",
       "2       3    101  2025-04-25         P             0            7   \n",
       "3       4    101  2025-04-25         P             7            7   \n",
       "\n",
       "                                             archivo medio   hora  \n",
       "0  repo_screenshot_miCitaPrevia\\Screenshot_202504...   App   0:41  \n",
       "1  repo_screenshot_miCitaPrevia\\Screenshot_202504...   App   8:04  \n",
       "2  repo_screenshot_miCitaPrevia\\Screenshot_202504...   App   8:05  \n",
       "3  repo_screenshot_miCitaPrevia\\Screenshot_202504...   App  18:32  "
      ]
     },
     "execution_count": 4,
     "metadata": {},
     "output_type": "execute_result"
    }
   ],
   "source": [
    "Appt_df.head()"
   ]
  },
  {
   "cell_type": "code",
   "execution_count": null,
   "id": "c99837e1-d021-47c9-9aca-aa06afc37d73",
   "metadata": {},
   "outputs": [],
   "source": []
  }
 ],
 "metadata": {
  "kernelspec": {
   "display_name": "envDataScience",
   "language": "python",
   "name": "envdatascience"
  },
  "language_info": {
   "codemirror_mode": {
    "name": "ipython",
    "version": 3
   },
   "file_extension": ".py",
   "mimetype": "text/x-python",
   "name": "python",
   "nbconvert_exporter": "python",
   "pygments_lexer": "ipython3",
   "version": "3.10.16"
  }
 },
 "nbformat": 4,
 "nbformat_minor": 5
}
